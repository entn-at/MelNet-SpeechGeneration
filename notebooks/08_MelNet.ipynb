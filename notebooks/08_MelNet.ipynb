{
 "cells": [
  {
   "cell_type": "code",
   "execution_count": 1,
   "metadata": {},
   "outputs": [],
   "source": [
    "import torch\n",
    "import torch.nn as nn\n",
    "import torch.nn.functional as F\n",
    "\n",
    "import os,sys,inspect\n",
    "sys.path.insert(0, \"..\")\n",
    "\n",
    "from src.model.MelNet import MelNet\n",
    "from src.model.GMM import GMMLoss"
   ]
  },
  {
   "cell_type": "code",
   "execution_count": 2,
   "metadata": {},
   "outputs": [],
   "source": [
    "hidden_size = 2\n",
    "has_central_stack=True\n",
    "freq = 3\n",
    "gmm_size = 3"
   ]
  },
  {
   "cell_type": "code",
   "execution_count": 3,
   "metadata": {},
   "outputs": [],
   "source": [
    "melnet = MelNet(n_tiers=1,\n",
    "                layers=[3],\n",
    "                hidden_size=hidden_size,\n",
    "                gmm_size=gmm_size,\n",
    "                freq=5)"
   ]
  },
  {
   "cell_type": "code",
   "execution_count": 4,
   "metadata": {},
   "outputs": [
    {
     "data": {
      "text/plain": [
       "tensor([[[ 2.7731e-01, -3.9813e-01, -7.5614e-01, -1.0628e-01,  1.5766e+00,\n",
       "          -4.4748e-01, -1.1494e-01],\n",
       "         [ 5.8231e-01,  5.1814e-03,  4.3387e-01, -3.4824e-01,  9.0221e-01,\n",
       "          -5.6928e-01, -2.8140e-01],\n",
       "         [-5.2013e-01, -2.3560e-01,  1.7683e-01,  4.2439e-01,  3.3988e+00,\n",
       "          -1.8667e-01, -5.9013e-01],\n",
       "         [ 3.9358e-01, -3.2714e-02,  1.0170e-01,  1.3545e+00,  6.9194e-01,\n",
       "          -4.2153e-01,  1.1068e-01],\n",
       "         [-6.4217e-01,  6.3889e+00, -1.8689e-01, -1.7237e+00,  2.1191e-01,\n",
       "           1.1405e-01, -4.2817e-01]]])"
      ]
     },
     "execution_count": 4,
     "metadata": {},
     "output_type": "execute_result"
    }
   ],
   "source": [
    "melnet.sample(n_samples=1, length=7)"
   ]
  },
  {
   "cell_type": "code",
   "execution_count": 5,
   "metadata": {},
   "outputs": [],
   "source": [
    "spectrogram = torch.zeros((5, 5, 7))\n",
    "mu_hat, std_hat, pi_hat = melnet(0,spectrogram)"
   ]
  },
  {
   "cell_type": "code",
   "execution_count": 6,
   "metadata": {},
   "outputs": [
    {
     "data": {
      "text/plain": [
       "tensor(106.1964, grad_fn=<SumBackward0>)"
      ]
     },
     "execution_count": 6,
     "metadata": {},
     "output_type": "execute_result"
    }
   ],
   "source": [
    "loss = GMMLoss()\n",
    "loss(mu_hat, std_hat, pi_hat, spectrogram)"
   ]
  }
 ],
 "metadata": {
  "kernelspec": {
   "display_name": "Python 3",
   "language": "python",
   "name": "python3"
  },
  "language_info": {
   "codemirror_mode": {
    "name": "ipython",
    "version": 3
   },
   "file_extension": ".py",
   "mimetype": "text/x-python",
   "name": "python",
   "nbconvert_exporter": "python",
   "pygments_lexer": "ipython3",
   "version": "3.7.7"
  }
 },
 "nbformat": 4,
 "nbformat_minor": 4
}
